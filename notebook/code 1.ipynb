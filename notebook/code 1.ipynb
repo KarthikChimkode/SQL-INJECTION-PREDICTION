{
 "cells": [
  {
   "cell_type": "code",
   "execution_count": 41,
   "metadata": {
    "execution": {
     "iopub.execute_input": "2021-12-04T03:51:42.363029Z",
     "iopub.status.busy": "2021-12-04T03:51:42.362594Z",
     "iopub.status.idle": "2021-12-04T03:51:42.494570Z",
     "shell.execute_reply": "2021-12-04T03:51:42.493624Z",
     "shell.execute_reply.started": "2021-12-04T03:51:42.362982Z"
    }
   },
   "outputs": [
    {
     "name": "stdout",
     "output_type": "stream",
     "text": [
      "<class 'pandas.core.frame.DataFrame'>\n",
      "RangeIndex: 30919 entries, 0 to 30918\n",
      "Data columns (total 2 columns):\n",
      " #   Column  Non-Null Count  Dtype \n",
      "---  ------  --------------  ----- \n",
      " 0   Query   30919 non-null  object\n",
      " 1   Label   30919 non-null  int64 \n",
      "dtypes: int64(1), object(1)\n",
      "memory usage: 483.2+ KB\n"
     ]
    }
   ],
   "source": [
    "import numpy as np\n",
    "import pandas as pd\n",
    "raw_dataset = pd.read_csv(\"C:/Users/lenovo/Downloads/sql injection/sql injection/sql injection/data/Modified_SQL_Dataset.csv\")\n",
    "raw_dataset.info()"
   ]
  },
  {
   "cell_type": "markdown",
   "metadata": {},
   "source": [
    "There are no null/missing values in the dataset.  \n",
    "We have two columns:\n",
    "1. **Query**: SQL query\n",
    "2. **Label**: 1 if injection 0 otherwise"
   ]
  },
  {
   "cell_type": "code",
   "execution_count": 42,
   "metadata": {
    "execution": {
     "iopub.execute_input": "2021-12-04T03:51:42.496194Z",
     "iopub.status.busy": "2021-12-04T03:51:42.495937Z",
     "iopub.status.idle": "2021-12-04T03:51:42.511578Z",
     "shell.execute_reply": "2021-12-04T03:51:42.510592Z",
     "shell.execute_reply.started": "2021-12-04T03:51:42.496163Z"
    }
   },
   "outputs": [
    {
     "data": {
      "text/html": [
       "<div>\n",
       "<style scoped>\n",
       "    .dataframe tbody tr th:only-of-type {\n",
       "        vertical-align: middle;\n",
       "    }\n",
       "\n",
       "    .dataframe tbody tr th {\n",
       "        vertical-align: top;\n",
       "    }\n",
       "\n",
       "    .dataframe thead th {\n",
       "        text-align: right;\n",
       "    }\n",
       "</style>\n",
       "<table border=\"1\" class=\"dataframe\">\n",
       "  <thead>\n",
       "    <tr style=\"text-align: right;\">\n",
       "      <th></th>\n",
       "      <th>Query</th>\n",
       "      <th>Label</th>\n",
       "    </tr>\n",
       "  </thead>\n",
       "  <tbody>\n",
       "    <tr>\n",
       "      <th>0</th>\n",
       "      <td>\" or pg_sleep  (  __TIME__  )  --</td>\n",
       "      <td>1</td>\n",
       "    </tr>\n",
       "    <tr>\n",
       "      <th>1</th>\n",
       "      <td>create user name identified by pass123 tempora...</td>\n",
       "      <td>1</td>\n",
       "    </tr>\n",
       "    <tr>\n",
       "      <th>2</th>\n",
       "      <td>AND 1  =  utl_inaddr.get_host_address   (    ...</td>\n",
       "      <td>1</td>\n",
       "    </tr>\n",
       "    <tr>\n",
       "      <th>3</th>\n",
       "      <td>select * from users where id  =  '1' or @ @1 ...</td>\n",
       "      <td>1</td>\n",
       "    </tr>\n",
       "    <tr>\n",
       "      <th>4</th>\n",
       "      <td>select * from users where id  =  1 or 1#\"  ( ...</td>\n",
       "      <td>1</td>\n",
       "    </tr>\n",
       "  </tbody>\n",
       "</table>\n",
       "</div>"
      ],
      "text/plain": [
       "                                               Query  Label\n",
       "0                  \" or pg_sleep  (  __TIME__  )  --      1\n",
       "1  create user name identified by pass123 tempora...      1\n",
       "2   AND 1  =  utl_inaddr.get_host_address   (    ...      1\n",
       "3   select * from users where id  =  '1' or @ @1 ...      1\n",
       "4   select * from users where id  =  1 or 1#\"  ( ...      1"
      ]
     },
     "execution_count": 42,
     "metadata": {},
     "output_type": "execute_result"
    }
   ],
   "source": [
    "raw_dataset.head()"
   ]
  },
  {
   "cell_type": "code",
   "execution_count": 43,
   "metadata": {
    "execution": {
     "iopub.execute_input": "2021-12-04T03:51:42.514250Z",
     "iopub.status.busy": "2021-12-04T03:51:42.513520Z",
     "iopub.status.idle": "2021-12-04T03:51:42.762220Z",
     "shell.execute_reply": "2021-12-04T03:51:42.761398Z",
     "shell.execute_reply.started": "2021-12-04T03:51:42.514204Z"
    }
   },
   "outputs": [
    {
     "data": {
      "text/plain": [
       "<AxesSubplot:>"
      ]
     },
     "execution_count": 43,
     "metadata": {},
     "output_type": "execute_result"
    },
    {
     "data": {
      "image/png": "[encoded data removed]",
      "text/plain": [
       "<Figure size 640x480 with 1 Axes>"
      ]
     },
     "metadata": {},
     "output_type": "display_data"
    }
   ],
   "source": [
    "raw_dataset['Label'].value_counts().plot(kind='bar')"
   ]
  },
  {
   "cell_type": "markdown",
   "metadata": {},
   "source": [
    "**Positive class** - 11382  \n",
    "**Negative class** - 19537  \n",
    "Dataset is imbalanced with popsitive to negative class ratio of 37:63 (~ 4:7)"
   ]
  },
  {
   "cell_type": "markdown",
   "metadata": {},
   "source": [
    "### Duplicate removal"
   ]
  },
  {
   "cell_type": "code",
   "execution_count": 44,
   "metadata": {},
   "outputs": [
    {
     "data": {
      "text/html": [
       "<div>\n",
       "<style scoped>\n",
       "    .dataframe tbody tr th:only-of-type {\n",
       "        vertical-align: middle;\n",
       "    }\n",
       "\n",
       "    .dataframe tbody tr th {\n",
       "        vertical-align: top;\n",
       "    }\n",
       "\n",
       "    .dataframe thead th {\n",
       "        text-align: right;\n",
       "    }\n",
       "</style>\n",
       "<table border=\"1\" class=\"dataframe\">\n",
       "  <thead>\n",
       "    <tr style=\"text-align: right;\">\n",
       "      <th></th>\n",
       "      <th>Query</th>\n",
       "      <th>Label</th>\n",
       "    </tr>\n",
       "  </thead>\n",
       "  <tbody>\n",
       "    <tr>\n",
       "      <th>656</th>\n",
       "      <td>#NAME?</td>\n",
       "      <td>1</td>\n",
       "    </tr>\n",
       "    <tr>\n",
       "      <th>18875</th>\n",
       "      <td>#NAME?</td>\n",
       "      <td>0</td>\n",
       "    </tr>\n",
       "    <tr>\n",
       "      <th>18233</th>\n",
       "      <td>#NAME?</td>\n",
       "      <td>0</td>\n",
       "    </tr>\n",
       "    <tr>\n",
       "      <th>15635</th>\n",
       "      <td>#NAME?</td>\n",
       "      <td>0</td>\n",
       "    </tr>\n",
       "    <tr>\n",
       "      <th>13532</th>\n",
       "      <td>#NAME?</td>\n",
       "      <td>0</td>\n",
       "    </tr>\n",
       "    <tr>\n",
       "      <th>17913</th>\n",
       "      <td>#NAME?</td>\n",
       "      <td>0</td>\n",
       "    </tr>\n",
       "    <tr>\n",
       "      <th>866</th>\n",
       "      <td>#NAME?</td>\n",
       "      <td>1</td>\n",
       "    </tr>\n",
       "    <tr>\n",
       "      <th>13318</th>\n",
       "      <td>#NAME?</td>\n",
       "      <td>0</td>\n",
       "    </tr>\n",
       "    <tr>\n",
       "      <th>12959</th>\n",
       "      <td>1.86E+15</td>\n",
       "      <td>0</td>\n",
       "    </tr>\n",
       "    <tr>\n",
       "      <th>17255</th>\n",
       "      <td>1.86E+15</td>\n",
       "      <td>0</td>\n",
       "    </tr>\n",
       "    <tr>\n",
       "      <th>14626</th>\n",
       "      <td>1.94E+15</td>\n",
       "      <td>0</td>\n",
       "    </tr>\n",
       "    <tr>\n",
       "      <th>12737</th>\n",
       "      <td>1.94E+15</td>\n",
       "      <td>0</td>\n",
       "    </tr>\n",
       "    <tr>\n",
       "      <th>19322</th>\n",
       "      <td>26%</td>\n",
       "      <td>1</td>\n",
       "    </tr>\n",
       "    <tr>\n",
       "      <th>19328</th>\n",
       "      <td>26%</td>\n",
       "      <td>1</td>\n",
       "    </tr>\n",
       "    <tr>\n",
       "      <th>19319</th>\n",
       "      <td>28%</td>\n",
       "      <td>1</td>\n",
       "    </tr>\n",
       "    <tr>\n",
       "      <th>19333</th>\n",
       "      <td>28%</td>\n",
       "      <td>1</td>\n",
       "    </tr>\n",
       "    <tr>\n",
       "      <th>19332</th>\n",
       "      <td>29%</td>\n",
       "      <td>1</td>\n",
       "    </tr>\n",
       "    <tr>\n",
       "      <th>19320</th>\n",
       "      <td>29%</td>\n",
       "      <td>1</td>\n",
       "    </tr>\n",
       "    <tr>\n",
       "      <th>18350</th>\n",
       "      <td>7.75E+15</td>\n",
       "      <td>0</td>\n",
       "    </tr>\n",
       "    <tr>\n",
       "      <th>18961</th>\n",
       "      <td>7.75E+15</td>\n",
       "      <td>0</td>\n",
       "    </tr>\n",
       "  </tbody>\n",
       "</table>\n",
       "</div>"
      ],
      "text/plain": [
       "          Query  Label\n",
       "656      #NAME?      1\n",
       "18875    #NAME?      0\n",
       "18233    #NAME?      0\n",
       "15635    #NAME?      0\n",
       "13532    #NAME?      0\n",
       "17913    #NAME?      0\n",
       "866      #NAME?      1\n",
       "13318    #NAME?      0\n",
       "12959  1.86E+15      0\n",
       "17255  1.86E+15      0\n",
       "14626  1.94E+15      0\n",
       "12737  1.94E+15      0\n",
       "19322       26%      1\n",
       "19328       26%      1\n",
       "19319       28%      1\n",
       "19333       28%      1\n",
       "19332       29%      1\n",
       "19320       29%      1\n",
       "18350  7.75E+15      0\n",
       "18961  7.75E+15      0"
      ]
     },
     "execution_count": 44,
     "metadata": {},
     "output_type": "execute_result"
    }
   ],
   "source": [
    "raw_dataset[raw_dataset.duplicated(keep=False)].sort_values(by=['Query'])"
   ]
  },
  {
   "cell_type": "markdown",
   "metadata": {},
   "source": [
    "* Here we have found 20 duplicate values.\n",
    "* All values looks like number and not like SQL query.\n",
    "* Let us remove all the datapoints."
   ]
  },
  {
   "cell_type": "code",
   "execution_count": 45,
   "metadata": {},
   "outputs": [],
   "source": [
    "raw_dataset.drop_duplicates(keep=False, inplace=True)"
   ]
  },
  {
   "cell_type": "code",
   "execution_count": 46,
   "metadata": {},
   "outputs": [
    {
     "data": {
      "text/plain": [
       "(30899, 2)"
      ]
     },
     "execution_count": 46,
     "metadata": {},
     "output_type": "execute_result"
    }
   ],
   "source": [
    "raw_dataset.shape"
   ]
  },
  {
   "cell_type": "markdown",
   "metadata": {},
   "source": [
    "## Data Cleaning"
   ]
  },
  {
   "cell_type": "markdown",
   "metadata": {},
   "source": [
    "We have so many white spaces in the queries and multiple special characters.  \n",
    "We can try to train model by removing the special characters.  \n",
    "If this does not work, we can include special characters afterwards.  \n",
    "Let's create two datasets one with and other without special characters.  \n",
    "This all are SQL queries so no need to remove stop words."
   ]
  },
  {
   "cell_type": "code",
   "execution_count": 47,
   "metadata": {
    "execution": {
     "iopub.execute_input": "2021-12-04T03:51:48.956840Z",
     "iopub.status.busy": "2021-12-04T03:51:48.955855Z",
     "iopub.status.idle": "2021-12-04T03:51:48.960850Z",
     "shell.execute_reply": "2021-12-04T03:51:48.959886Z",
     "shell.execute_reply.started": "2021-12-04T03:51:48.956801Z"
    }
   },
   "outputs": [],
   "source": [
    "import re"
   ]
  },
  {
   "cell_type": "code",
   "execution_count": 48,
   "metadata": {
    "execution": {
     "iopub.execute_input": "2021-12-04T03:51:48.962920Z",
     "iopub.status.busy": "2021-12-04T03:51:48.962316Z",
     "iopub.status.idle": "2021-12-04T03:51:48.977718Z",
     "shell.execute_reply": "2021-12-04T03:51:48.976419Z",
     "shell.execute_reply.started": "2021-12-04T03:51:48.962872Z"
    }
   },
   "outputs": [
    {
     "data": {
      "text/plain": [
       "\"1'||  (  select 'rjis' from dual where 7696  =  7696 and 3754  =    (  select upper  (  xmltype  (  chr  (  60  )  ||chr  (  58  )  ||chr  (  113  )  ||chr  (  113  )  ||chr  (  112  )  ||chr  (  106  )  ||chr  (  113  )  ||  (  select   (  case when   (  3754  =  3754  )   then 1 else 0 end  )   from dual  )  ||chr  (  113  )  ||chr  (  122  )  ||chr  (  118  )  ||chr  (  122  )  ||chr  (  113  )  ||chr  (  62   )    )     )   from dual   )    )   ||'\""
      ]
     },
     "execution_count": 48,
     "metadata": {},
     "output_type": "execute_result"
    }
   ],
   "source": [
    "sample_query = raw_dataset['Query'][9780]\n",
    "sample_query"
   ]
  },
  {
   "cell_type": "code",
   "execution_count": 49,
   "metadata": {
    "execution": {
     "iopub.execute_input": "2021-12-04T03:51:48.979482Z",
     "iopub.status.busy": "2021-12-04T03:51:48.979145Z",
     "iopub.status.idle": "2021-12-04T03:51:48.989646Z",
     "shell.execute_reply": "2021-12-04T03:51:48.988618Z",
     "shell.execute_reply.started": "2021-12-04T03:51:48.979453Z"
    }
   },
   "outputs": [
    {
     "name": "stdout",
     "output_type": "stream",
     "text": [
      "1'|| ( select 'rjis' from dual where 7696 = 7696 and 3754 = ( select upper ( xmltype ( chr ( 60 ) ||chr ( 58 ) ||chr ( 113 ) ||chr ( 113 ) ||chr ( 112 ) ||chr ( 106 ) ||chr ( 113 ) || ( select ( case when ( 3754 = 3754 ) then 1 else 0 end ) from dual ) ||chr ( 113 ) ||chr ( 122 ) ||chr ( 118 ) ||chr ( 122 ) ||chr ( 113 ) ||chr ( 62 ) ) ) from dual ) ) ||'\n"
     ]
    }
   ],
   "source": [
    "def remove_spaces(input_string):\n",
    "    cleaned = re.sub('\\s{2,}',' ',input_string)\n",
    "    return cleaned.lower().strip()\n",
    "\n",
    "print(remove_spaces(sample_query))"
   ]
  },
  {
   "cell_type": "code",
   "execution_count": 50,
   "metadata": {
    "execution": {
     "iopub.execute_input": "2021-12-04T03:51:48.991408Z",
     "iopub.status.busy": "2021-12-04T03:51:48.991027Z",
     "iopub.status.idle": "2021-12-04T03:51:49.003149Z",
     "shell.execute_reply": "2021-12-04T03:51:49.002474Z",
     "shell.execute_reply.started": "2021-12-04T03:51:48.991363Z"
    }
   },
   "outputs": [
    {
     "name": "stdout",
     "output_type": "stream",
     "text": [
      "1 select rjis from dual where 7696 7696 and 3754 select upper xmltype chr 60 chr 58 chr 113 chr 113 chr 112 chr 106 chr 113 select case when 3754 3754 then 1 else 0 end from dual chr 113 chr 122 chr 118 chr 122 chr 113 chr 62 from dual\n"
     ]
    }
   ],
   "source": [
    "def clean_all(input_string):\n",
    "    cleaned = re.sub('[^a-zA-Z0-9\\s]',' ',input_string)\n",
    "    cleaned = re.sub('\\s{2,}',' ',cleaned)\n",
    "    return cleaned.lower().strip()\n",
    "print(clean_all(sample_query))"
   ]
  },
  {
   "cell_type": "code",
   "execution_count": 51,
   "metadata": {
    "execution": {
     "iopub.execute_input": "2021-12-04T03:51:49.025351Z",
     "iopub.status.busy": "2021-12-04T03:51:49.024979Z",
     "iopub.status.idle": "2021-12-04T03:51:49.236207Z",
     "shell.execute_reply": "2021-12-04T03:51:49.235404Z",
     "shell.execute_reply.started": "2021-12-04T03:51:49.025306Z"
    }
   },
   "outputs": [
    {
     "data": {
      "text/html": [
       "<div>\n",
       "<style scoped>\n",
       "    .dataframe tbody tr th:only-of-type {\n",
       "        vertical-align: middle;\n",
       "    }\n",
       "\n",
       "    .dataframe tbody tr th {\n",
       "        vertical-align: top;\n",
       "    }\n",
       "\n",
       "    .dataframe thead th {\n",
       "        text-align: right;\n",
       "    }\n",
       "</style>\n",
       "<table border=\"1\" class=\"dataframe\">\n",
       "  <thead>\n",
       "    <tr style=\"text-align: right;\">\n",
       "      <th></th>\n",
       "      <th>Query</th>\n",
       "      <th>Label</th>\n",
       "    </tr>\n",
       "  </thead>\n",
       "  <tbody>\n",
       "    <tr>\n",
       "      <th>0</th>\n",
       "      <td>\" or pg_sleep ( __time__ ) --</td>\n",
       "      <td>1</td>\n",
       "    </tr>\n",
       "    <tr>\n",
       "      <th>1</th>\n",
       "      <td>create user name identified by pass123 tempora...</td>\n",
       "      <td>1</td>\n",
       "    </tr>\n",
       "    <tr>\n",
       "      <th>2</th>\n",
       "      <td>and 1 = utl_inaddr.get_host_address ( ( select...</td>\n",
       "      <td>1</td>\n",
       "    </tr>\n",
       "    <tr>\n",
       "      <th>3</th>\n",
       "      <td>select * from users where id = '1' or @ @1 = 1...</td>\n",
       "      <td>1</td>\n",
       "    </tr>\n",
       "    <tr>\n",
       "      <th>4</th>\n",
       "      <td>select * from users where id = 1 or 1#\" ( unio...</td>\n",
       "      <td>1</td>\n",
       "    </tr>\n",
       "  </tbody>\n",
       "</table>\n",
       "</div>"
      ],
      "text/plain": [
       "                                               Query  Label\n",
       "0                      \" or pg_sleep ( __time__ ) --      1\n",
       "1  create user name identified by pass123 tempora...      1\n",
       "2  and 1 = utl_inaddr.get_host_address ( ( select...      1\n",
       "3  select * from users where id = '1' or @ @1 = 1...      1\n",
       "4  select * from users where id = 1 or 1#\" ( unio...      1"
      ]
     },
     "execution_count": 51,
     "metadata": {},
     "output_type": "execute_result"
    }
   ],
   "source": [
    "dataset_with_special_characters = raw_dataset.copy()\n",
    "dataset_with_special_characters['Query'] = dataset_with_special_characters['Query'].apply(remove_spaces)\n",
    "dataset_with_special_characters.head()"
   ]
  },
  {
   "cell_type": "code",
   "execution_count": 52,
   "metadata": {
    "execution": {
     "iopub.execute_input": "2021-12-04T03:51:49.238339Z",
     "iopub.status.busy": "2021-12-04T03:51:49.237474Z",
     "iopub.status.idle": "2021-12-04T03:51:49.614490Z",
     "shell.execute_reply": "2021-12-04T03:51:49.613606Z",
     "shell.execute_reply.started": "2021-12-04T03:51:49.238291Z"
    }
   },
   "outputs": [
    {
     "data": {
      "text/html": [
       "<div>\n",
       "<style scoped>\n",
       "    .dataframe tbody tr th:only-of-type {\n",
       "        vertical-align: middle;\n",
       "    }\n",
       "\n",
       "    .dataframe tbody tr th {\n",
       "        vertical-align: top;\n",
       "    }\n",
       "\n",
       "    .dataframe thead th {\n",
       "        text-align: right;\n",
       "    }\n",
       "</style>\n",
       "<table border=\"1\" class=\"dataframe\">\n",
       "  <thead>\n",
       "    <tr style=\"text-align: right;\">\n",
       "      <th></th>\n",
       "      <th>Query</th>\n",
       "      <th>Label</th>\n",
       "    </tr>\n",
       "  </thead>\n",
       "  <tbody>\n",
       "    <tr>\n",
       "      <th>0</th>\n",
       "      <td>or pg sleep time</td>\n",
       "      <td>1</td>\n",
       "    </tr>\n",
       "    <tr>\n",
       "      <th>1</th>\n",
       "      <td>create user name identified by pass123 tempora...</td>\n",
       "      <td>1</td>\n",
       "    </tr>\n",
       "    <tr>\n",
       "      <th>2</th>\n",
       "      <td>and 1 utl inaddr get host address select disti...</td>\n",
       "      <td>1</td>\n",
       "    </tr>\n",
       "    <tr>\n",
       "      <th>3</th>\n",
       "      <td>select from users where id 1 or 1 1 union sele...</td>\n",
       "      <td>1</td>\n",
       "    </tr>\n",
       "    <tr>\n",
       "      <th>4</th>\n",
       "      <td>select from users where id 1 or 1 union select...</td>\n",
       "      <td>1</td>\n",
       "    </tr>\n",
       "  </tbody>\n",
       "</table>\n",
       "</div>"
      ],
      "text/plain": [
       "                                               Query  Label\n",
       "0                                   or pg sleep time      1\n",
       "1  create user name identified by pass123 tempora...      1\n",
       "2  and 1 utl inaddr get host address select disti...      1\n",
       "3  select from users where id 1 or 1 1 union sele...      1\n",
       "4  select from users where id 1 or 1 union select...      1"
      ]
     },
     "execution_count": 52,
     "metadata": {},
     "output_type": "execute_result"
    }
   ],
   "source": [
    "dataset_all_cleaned = raw_dataset.copy()\n",
    "dataset_all_cleaned['Query'] = dataset_all_cleaned['Query'].apply(clean_all)\n",
    "dataset_all_cleaned.head()"
   ]
  },
  {
   "cell_type": "markdown",
   "metadata": {},
   "source": [
    "Let us see if we have any duplicates after removing special characters."
   ]
  },
  {
   "cell_type": "code",
   "execution_count": 53,
   "metadata": {},
   "outputs": [
    {
     "data": {
      "text/html": [
       "<div>\n",
       "<style scoped>\n",
       "    .dataframe tbody tr th:only-of-type {\n",
       "        vertical-align: middle;\n",
       "    }\n",
       "\n",
       "    .dataframe tbody tr th {\n",
       "        vertical-align: top;\n",
       "    }\n",
       "\n",
       "    .dataframe thead th {\n",
       "        text-align: right;\n",
       "    }\n",
       "</style>\n",
       "<table border=\"1\" class=\"dataframe\">\n",
       "  <thead>\n",
       "    <tr style=\"text-align: right;\">\n",
       "      <th></th>\n",
       "      <th>Query</th>\n",
       "      <th>Label</th>\n",
       "    </tr>\n",
       "  </thead>\n",
       "  <tbody>\n",
       "    <tr>\n",
       "      <th>863</th>\n",
       "      <td></td>\n",
       "      <td>1</td>\n",
       "    </tr>\n",
       "    <tr>\n",
       "      <th>535</th>\n",
       "      <td></td>\n",
       "      <td>1</td>\n",
       "    </tr>\n",
       "    <tr>\n",
       "      <th>856</th>\n",
       "      <td></td>\n",
       "      <td>1</td>\n",
       "    </tr>\n",
       "    <tr>\n",
       "      <th>282</th>\n",
       "      <td></td>\n",
       "      <td>1</td>\n",
       "    </tr>\n",
       "    <tr>\n",
       "      <th>402</th>\n",
       "      <td></td>\n",
       "      <td>1</td>\n",
       "    </tr>\n",
       "    <tr>\n",
       "      <th>...</th>\n",
       "      <td>...</td>\n",
       "      <td>...</td>\n",
       "    </tr>\n",
       "    <tr>\n",
       "      <th>756</th>\n",
       "      <td>x and members email is null</td>\n",
       "      <td>1</td>\n",
       "    </tr>\n",
       "    <tr>\n",
       "      <th>464</th>\n",
       "      <td>x and userid is null</td>\n",
       "      <td>1</td>\n",
       "    </tr>\n",
       "    <tr>\n",
       "      <th>362</th>\n",
       "      <td>x and userid is null</td>\n",
       "      <td>1</td>\n",
       "    </tr>\n",
       "    <tr>\n",
       "      <th>865</th>\n",
       "      <td>x or full name like bob</td>\n",
       "      <td>1</td>\n",
       "    </tr>\n",
       "    <tr>\n",
       "      <th>376</th>\n",
       "      <td>x or full name like bob</td>\n",
       "      <td>1</td>\n",
       "    </tr>\n",
       "  </tbody>\n",
       "</table>\n",
       "<p>3148 rows × 2 columns</p>\n",
       "</div>"
      ],
      "text/plain": [
       "                           Query  Label\n",
       "863                                   1\n",
       "535                                   1\n",
       "856                                   1\n",
       "282                                   1\n",
       "402                                   1\n",
       "..                           ...    ...\n",
       "756  x and members email is null      1\n",
       "464         x and userid is null      1\n",
       "362         x and userid is null      1\n",
       "865      x or full name like bob      1\n",
       "376      x or full name like bob      1\n",
       "\n",
       "[3148 rows x 2 columns]"
      ]
     },
     "execution_count": 53,
     "metadata": {},
     "output_type": "execute_result"
    }
   ],
   "source": [
    "dataset_all_cleaned[dataset_all_cleaned.duplicated(keep=False)].sort_values(by='Query')"
   ]
  },
  {
   "cell_type": "code",
   "execution_count": 54,
   "metadata": {},
   "outputs": [
    {
     "data": {
      "text/plain": [
       "(28140, 2)"
      ]
     },
     "execution_count": 54,
     "metadata": {},
     "output_type": "execute_result"
    }
   ],
   "source": [
    "dataset_all_cleaned.drop_duplicates(keep='first', inplace=True)\n",
    "dataset_all_cleaned.shape"
   ]
  },
  {
   "cell_type": "markdown",
   "metadata": {},
   "source": [
    "**Special Characters Count**  \n",
    "Let's find out if number of special characters in the query has any relation with dependent variable."
   ]
  },
  {
   "cell_type": "code",
   "execution_count": 55,
   "metadata": {},
   "outputs": [
    {
     "data": {
      "text/plain": [
       "count    30899.000000\n",
       "mean         7.975436\n",
       "std         12.352086\n",
       "min          0.000000\n",
       "25%          1.000000\n",
       "50%          4.000000\n",
       "75%         10.000000\n",
       "max        601.000000\n",
       "Name: Query, dtype: float64"
      ]
     },
     "execution_count": 55,
     "metadata": {},
     "output_type": "execute_result"
    }
   ],
   "source": [
    "no_of_special_chars = raw_dataset['Query'].map(lambda x:len(re.findall('[^a-zA-Z0-9\\s]',x)))\n",
    "no_of_special_chars.describe()"
   ]
  },
  {
   "cell_type": "code",
   "execution_count": 56,
   "metadata": {},
   "outputs": [
    {
     "data": {
      "text/plain": [
       "<matplotlib.legend.Legend at 0x20a5331bfa0>"
      ]
     },
     "execution_count": 56,
     "metadata": {},
     "output_type": "execute_result"
    },
    {
     "data": {
      "image/png": "[encoded data removed]",
      "text/plain": [
       "<Figure size 1500x800 with 1 Axes>"
      ]
     },
     "metadata": {},
     "output_type": "display_data"
    }
   ],
   "source": [
    "import matplotlib.pyplot as plt\n",
    "import seaborn as sns\n",
    "fig3, ax_sc = plt.subplots(1, 1, figsize=(15,8))\n",
    "sns.histplot(no_of_special_chars[raw_dataset['Label']==1], ax=ax_sc, color='red', label='Malicious', binrange=(0,100) ,alpha=0.4)\n",
    "sns.histplot(no_of_special_chars[raw_dataset['Label']==0], ax=ax_sc, color='green', label='Nomral', binrange=(0,100))\n",
    "ax_sc.set_title(\"Special Character Distribution\")\n",
    "ax_sc.legend()"
   ]
  },
  {
   "cell_type": "markdown",
   "metadata": {},
   "source": [
    "**NOTE**: Here we can see, Number of special characters in a query has almost sane distribution for normal and malicious queries. This is not a good feature to make classification."
   ]
  },
  {
   "cell_type": "markdown",
   "metadata": {},
   "source": [
    "Let's remove the duplicates and keep the first instance only."
   ]
  },
  {
   "cell_type": "code",
   "execution_count": 57,
   "metadata": {},
   "outputs": [
    {
     "data": {
      "text/plain": [
       "count    28140.000000\n",
       "mean         9.006432\n",
       "std          9.246985\n",
       "min          0.000000\n",
       "25%          3.000000\n",
       "50%          7.000000\n",
       "75%         11.000000\n",
       "max        542.000000\n",
       "Name: Query, dtype: float64"
      ]
     },
     "execution_count": 57,
     "metadata": {},
     "output_type": "execute_result"
    }
   ],
   "source": [
    "query_length = dataset_all_cleaned.Query.map(lambda x:len(x.split()))\n",
    "query_length.describe()"
   ]
  },
  {
   "cell_type": "code",
   "execution_count": 58,
   "metadata": {
    "execution": {
     "iopub.execute_input": "2021-12-04T03:51:42.819798Z",
     "iopub.status.busy": "2021-12-04T03:51:42.819594Z",
     "iopub.status.idle": "2021-12-04T03:51:42.825775Z",
     "shell.execute_reply": "2021-12-04T03:51:42.824824Z",
     "shell.execute_reply.started": "2021-12-04T03:51:42.819773Z"
    }
   },
   "outputs": [],
   "source": [
    "import matplotlib.pyplot as plt\n",
    "import seaborn as sns"
   ]
  },
  {
   "cell_type": "code",
   "execution_count": 59,
   "metadata": {},
   "outputs": [
    {
     "data": {
      "image/png": "[encoded data removed]",
      "text/plain": [
       "<Figure size 1200x1200 with 4 Axes>"
      ]
     },
     "metadata": {},
     "output_type": "display_data"
    }
   ],
   "source": [
    "fig, ((ax1, ax2), (ax3, ax4)) = plt.subplots(2, 2, figsize=(12,12))\n",
    "sns.histplot(query_length, binrange=(0,50), ax=ax1)\n",
    "sns.histplot(query_length, binrange=(50,75), ax=ax2)\n",
    "sns.histplot(query_length, binrange=(75,100), ax=ax3)\n",
    "sns.histplot(query_length, binrange=(100,600), ax=ax4)\n",
    "plt.suptitle(\"Query Length Distribution\");"
   ]
  },
  {
   "cell_type": "code",
   "execution_count": 60,
   "metadata": {
    "execution": {
     "iopub.execute_input": "2021-12-04T03:51:48.748995Z",
     "iopub.status.busy": "2021-12-04T03:51:48.748660Z",
     "iopub.status.idle": "2021-12-04T03:51:48.775415Z",
     "shell.execute_reply": "2021-12-04T03:51:48.774539Z",
     "shell.execute_reply.started": "2021-12-04T03:51:48.748954Z"
    }
   },
   "outputs": [
    {
     "name": "stdout",
     "output_type": "stream",
     "text": [
      "0 words   = 1\n",
      "1 words   = 4797\n",
      "2 words   = 918\n",
      "Less than 5 words   = 9342\n",
      "Less than 10 words  = 19110\n",
      "Less than 15 words  = 23691\n",
      "Less than 50 words  = 28094\n",
      "More than 90 words = 3\n",
      "More than 500 words = 1\n"
     ]
    }
   ],
   "source": [
    "print(\"0 words   =\", (query_length==0).value_counts()[True])\n",
    "print(\"1 words   =\", (query_length==1).value_counts()[True])\n",
    "print(\"2 words   =\", (query_length==2).value_counts()[True])\n",
    "print(\"Less than 5 words   =\", (query_length<5).value_counts()[True])\n",
    "print(\"Less than 10 words  =\", (query_length<10).value_counts()[True])\n",
    "print(\"Less than 15 words  =\", (query_length<15).value_counts()[True])\n",
    "print(\"Less than 50 words  =\", (query_length<50).value_counts()[True])\n",
    "print(\"More than 90 words =\", (query_length>90).value_counts()[True])\n",
    "print(\"More than 500 words =\", (query_length>500).value_counts()[True])"
   ]
  },
  {
   "cell_type": "markdown",
   "metadata": {},
   "source": [
    "Here we have one outlier where we do not have any query.\n",
    "We need to find that and remove from dataset."
   ]
  },
  {
   "cell_type": "code",
   "execution_count": 61,
   "metadata": {
    "execution": {
     "iopub.execute_input": "2021-12-04T03:51:48.777456Z",
     "iopub.status.busy": "2021-12-04T03:51:48.776947Z",
     "iopub.status.idle": "2021-12-04T03:51:48.807590Z",
     "shell.execute_reply": "2021-12-04T03:51:48.806939Z",
     "shell.execute_reply.started": "2021-12-04T03:51:48.777401Z"
    }
   },
   "outputs": [
    {
     "name": "stdout",
     "output_type": "stream",
     "text": [
      "10 percentile for query length = 1.0\n",
      "20 percentile for query length = 2.0\n",
      "30 percentile for query length = 4.0\n",
      "40 percentile for query length = 6.0\n",
      "50 percentile for query length = 7.0\n",
      "60 percentile for query length = 8.0\n",
      "70 percentile for query length = 10.0\n",
      "80 percentile for query length = 13.0\n",
      "90 percentile for query length = 19.0\n",
      "100 percentile for query length = 542.0\n",
      "----------------------------------------\n",
      "91 percentile for query length = 20.0\n",
      "92 percentile for query length = 21.0\n",
      "93 percentile for query length = 22.0\n",
      "94 percentile for query length = 24.0\n",
      "95 percentile for query length = 26.0\n",
      "96 percentile for query length = 30.0\n",
      "97 percentile for query length = 36.0\n",
      "98 percentile for query length = 40.0\n",
      "99 percentile for query length = 43.0\n",
      "100 percentile for query length = 542.0\n",
      "----------------------------------------\n",
      "99.0 percentile for query length = 43.0\n",
      "99.1 percentile for query length = 43.0\n",
      "99.2 percentile for query length = 44.0\n",
      "99.3 percentile for query length = 44.0\n",
      "99.4 percentile for query length = 45.0\n",
      "99.5 percentile for query length = 45.0\n",
      "99.6 percentile for query length = 46.0\n",
      "99.7 percentile for query length = 49.0\n",
      "99.8 percentile for query length = 49.0\n",
      "99.9 percentile for query length = 50.0\n",
      "100.0 percentile for query length = 542.0\n"
     ]
    }
   ],
   "source": [
    "for per in range(10,101,10):\n",
    "    print(f'{per} percentile for query length = {np.percentile(query_length, per)}')\n",
    "print('-'*40)\n",
    "for per in range(91,101,1):\n",
    "    print(f'{per} percentile for query length = {np.percentile(query_length, per)}')\n",
    "print('-'*40)\n",
    "for per in np.linspace(99,100,11):\n",
    "    print(f'{per} percentile for query length = {np.percentile(query_length, per)}')"
   ]
  },
  {
   "cell_type": "markdown",
   "metadata": {},
   "source": [
    "**Observations**  \n",
    "From histogram, percentiles and other observations for query length:\n",
    "1. 90% of the queries are having 19 or less words.\n",
    "2. 95% of the queries are having 26 or less words.\n",
    "3. Less than 1% of the data have more than 43 words.\n",
    "4. Only one outlier query has 542 words.\n",
    "5. Only one outlier query has 0 words (only space)."
   ]
  },
  {
   "cell_type": "markdown",
   "metadata": {},
   "source": [
    "**Outlier Removal**  \n",
    "Let's remove query with length 0(minimum) and 542(maximum)."
   ]
  },
  {
   "cell_type": "code",
   "execution_count": 62,
   "metadata": {},
   "outputs": [
    {
     "data": {
      "text/html": [
       "<div>\n",
       "<style scoped>\n",
       "    .dataframe tbody tr th:only-of-type {\n",
       "        vertical-align: middle;\n",
       "    }\n",
       "\n",
       "    .dataframe tbody tr th {\n",
       "        vertical-align: top;\n",
       "    }\n",
       "\n",
       "    .dataframe thead th {\n",
       "        text-align: right;\n",
       "    }\n",
       "</style>\n",
       "<table border=\"1\" class=\"dataframe\">\n",
       "  <thead>\n",
       "    <tr style=\"text-align: right;\">\n",
       "      <th></th>\n",
       "      <th>Query</th>\n",
       "      <th>Label</th>\n",
       "    </tr>\n",
       "  </thead>\n",
       "  <tbody>\n",
       "    <tr>\n",
       "      <th>208</th>\n",
       "      <td></td>\n",
       "      <td>1</td>\n",
       "    </tr>\n",
       "  </tbody>\n",
       "</table>\n",
       "</div>"
      ],
      "text/plain": [
       "    Query  Label\n",
       "208            1"
      ]
     },
     "execution_count": 62,
     "metadata": {},
     "output_type": "execute_result"
    }
   ],
   "source": [
    "dataset_all_cleaned[dataset_all_cleaned['Query'].map(lambda x:len(x.split()))==0]"
   ]
  },
  {
   "cell_type": "code",
   "execution_count": 63,
   "metadata": {},
   "outputs": [
    {
     "data": {
      "text/html": [
       "<div>\n",
       "<style scoped>\n",
       "    .dataframe tbody tr th:only-of-type {\n",
       "        vertical-align: middle;\n",
       "    }\n",
       "\n",
       "    .dataframe tbody tr th {\n",
       "        vertical-align: top;\n",
       "    }\n",
       "\n",
       "    .dataframe thead th {\n",
       "        text-align: right;\n",
       "    }\n",
       "</style>\n",
       "<table border=\"1\" class=\"dataframe\">\n",
       "  <thead>\n",
       "    <tr style=\"text-align: right;\">\n",
       "      <th></th>\n",
       "      <th>Query</th>\n",
       "      <th>Label</th>\n",
       "    </tr>\n",
       "  </thead>\n",
       "  <tbody>\n",
       "    <tr>\n",
       "      <th>19341</th>\n",
       "      <td>de email address find account answer cdata fqa...</td>\n",
       "      <td>0</td>\n",
       "    </tr>\n",
       "  </tbody>\n",
       "</table>\n",
       "</div>"
      ],
      "text/plain": [
       "                                                   Query  Label\n",
       "19341  de email address find account answer cdata fqa...      0"
      ]
     },
     "execution_count": 63,
     "metadata": {},
     "output_type": "execute_result"
    }
   ],
   "source": [
    "dataset_all_cleaned[dataset_all_cleaned['Query'].map(lambda x:len(x.split()))==542]"
   ]
  },
  {
   "cell_type": "code",
   "execution_count": 64,
   "metadata": {
    "execution": {
     "iopub.execute_input": "2021-12-04T03:51:48.821660Z",
     "iopub.status.busy": "2021-12-04T03:51:48.821329Z",
     "iopub.status.idle": "2021-12-04T03:51:48.832486Z",
     "shell.execute_reply": "2021-12-04T03:51:48.831507Z",
     "shell.execute_reply.started": "2021-12-04T03:51:48.821632Z"
    }
   },
   "outputs": [
    {
     "name": "stdout",
     "output_type": "stream",
     "text": [
      "de email address find account answer cdata fqaepqdkct find account answer find account question cdata 6 find account question homepage cdata homepage is secret cdata is secret methodcall mid cdata qna mid module cdata member module nick name cdata elwoodbuckley041104 nick name params password2 cdata yxg6dsf5iu password2 password cdata yxg6dsf5iu password reward point cdata 0 reward point title cdata ways to make cash online make money from home title user id cdata elwoodbuckley041104 user id user name cdata elwoodbuckley041104 user name 01 7520 a3b10 a3b12c41 a3b12c411 app ar 203 ascd agahmzm3msdfjmwmexg6pvz1i3dhgd7dst5ve9qu n91bdfdeb5ebdeo m5lphloo5yon zys1jabrmzu2wuhosclewjjadz2yhm9tjwbluelc jm8eix vtywmmo5osa8fbyznpanaxi7ty0n7avqytu2rek2f n c390zlvthtsxl1isk49osewueazdarlmluwcpx6xsdjfz 1cgweoailj9q5nobm6nyipbgovj6yzgiencnt9gu6x6sgknppx0ygxxmss 0qi5exwmdn30ulwjftbmc ta17xldxgm6f him7f4fde 5c pavn9eizxye9k6g gycm7i0dzjpisjeowl96y fyxozojcp79klwtty6f1dl1has8dsfoirfous7zyftzgmnv2k0st68iwwkiof2em1xes5nbdzmhoeqz loglf2ubiygcz4csctdzhrjxt7txsizehkypcgtvhno4zjdlho7zpunr 8dslusdf18e08zs4igmrk43bhv6oga6duw dx exrgtl nmothquqvfdynsc afgwo3pqlfhjq9s3rzk5krr6ii3e2vkhs36q7ngngailqniqno8cnbe8ivuxzchhvxaostpiun n9ky4sz51ole8offospb1nqxs3575sxu 1depaggurujqkjeum4hu90kohmbl2 zt6bk gcnk2wbkjensceetflbcbzbgxplkc7 g5w4k8gviynn4qcuod9fvagtkttf4maa5rztrkrabuae 259wruz3vehfzjpxlaogs9doevhdebaclkkuadu6f6fa2wfim58 agahmzm3mjmwmjns2wotx5wisosrniccx9vsfdnc tfado 9wdde55sqhloo5yon zys1jabrmzu2wuhosclewjjdz2yhsm9tjwa4oyj22hdairjsshxe0kmktxd4lbsreqqg6in3ulz8oaewmt7lkcx4ukfep1iwce7xhxlsw2gcfxdzmh731jklufdn 9rcy4akdgqajlohmvnlk3ubctxbqs8xwjjk8 vngu9toysualxl0cgjsrgl01ddyqiavyqobshachcdfbhmbdziprpowsvfuagpysvdx3fvedda8nkrapmi3walq40fqzddhnxnr70ol9zrzs82kwdhp8w2hd1kciheaxdsw4a5flajzswrdjcovufjqo5qt 90j19i2iwnutnidtzocf3uvy23shywmsbewhyasskdm7dfoppwhiwamqkkdcm5kowp fgoir09s0cn bzzlosdcfsbhyoxa b qna b solution bn2gepsdoasdfe4v4a1 v k bn2gepsdoae4v4a1 23v k plvebntvhaya01hh v k etzymz0f3ybl4ozr v k bn2gepsdoae4v4a1 v k xj8t k x1e6 nqcp v a1k plnd8fsyoxd3ql3s board00001 c cysdfsl7j axgav 30tu412jwfjha cont content disposi content disposition form content disposition form data name app content disposition form data name cd loan type content disposition form data name id finance content disposition form data name mode content disposition form data name no content disposition form data name no goods content disposition form data name path content disposition form data name pnm content disposition form data name return page content disposition form data name type d2 d3 dc 3000 df del e ea f1 f4 f5 f6 fg123p8hq vasd0pvzd2o yld v1v2g fmsdfvdvlxqivetuizs v k vj fqz6tun123pq1x2w v k dqrlntgax88txgb3 v k r43ssinxoxfckjay fmvdvlxqivetuizs v k n5aesvv0q4se1ibn8 vasd k m5ivfwdvvs5y1tnous v k vj fqz6tunpq1x2w v k fuvkbforsgktsdsdf7l v k ztgfo1wcvpd67kfos v k dqrlntgax88txgb3 free fun hf6dniddq1xzab3bddt v 512k mrn61gaqhi0iae213dd v k hf6dnisdfdxzab3bddt v k rstgzjcyiy7iirl v k iti ntjsfftdh8ah v k hf6dnidxzab3bddt v k edodgnxpneywbwcs jvwh 8xsq6ezjpyt v s23k vpr4i41u8oeym0bei v k 3wpctx1mj5sbdacl v k 3wpctx1mj5sbdacl v k qpmaduumpkv2tsjp v k jvwh 8xsq6ezasdfjpyt v k vpr4iu8oeym0bei l 840 360ml l 840 450 l5vsrxv4dfodxwh hz v k t0no9aswf7j4gkah v k vwvmclmqqannoajf v k erqvjx2ogee0mxdf v k vicbva15fl1xm0wh va123 k t0no9aswf7j4gkah v k vicbva15fl1xm0wh psc 1 npp purchase omnicef without prescri qjt5lwbasdftpj3ycikw v k hf6dni123dxz1ab3bddt v k iti ntjsffatdh8vah v k mrn61gaqhi0iaedd qna 7 r randd s sf 1013 sr 600 school tc 100 tp1 tracyjat tzwvxjpecaaoz9dhj0 v k 6dpv ykqbhbjysmo v kw fykxpjdnqqrxtvasdfsr v k c1locyickfas xhzbo v k lihg vlgv8rrgr01123 v k tzwvxjpecoz9dhj0 v k uigfbm0312riuaiubxk uwxvae743xrpy10jm v k rojwcf7y oxorcbk v kv 0aia2oyla5nt1ckw3 v k gmpmso40ncsoarea v v0hyd71loy24uhin4n 3v k l5vsrxv4odxwh hz vsdf k znwrm3vjnuyjbkle v k oujanfbzchblsge1 visitview wjyyj 94qq2bzbmjn v k kyziu123 92fxfebsdfatn v k 3gcbpscfj6qqew12gn v k kyziu 92fsdxfebatn v k knefosew6e lzcd51r v k wjyyj 94q4asdfkqbzbmjn v123 k wjyyj 94qqbzbmjn wldxz xl9gqymv123swnozdkhq wnuifx55kz xqg12sk2qaelwoadsfsa124yemxept1pg y y check name y y y y y y y y y y y y y29k123zt1mcmvljnnlyxjjaasdvfa9pdgvtpszzzwfyy2hfb3jkzxi9jnvuc2luz2nvzguxpteyntc3ntu2otekljoimdw5zasadfw5ny29kzti9mti1nzc1ntc4123ocz1asdfbnnpbmdjb232rl41mz0my2f0zt0mchdkpq y29kztasdf1xbmemc2vcwehcmnox2l0zw09jnnlyxjjaf9vcmrlcasdj0mdw5zaw5ny29kzte9mtic131nzc1nty5msz1bnnpbmdjb2rlmj0xmju3nzu1nzczjnvuc2412sasdfqluz2nvasdfpwzguzpszjyxrlpszwd2q9 ym yykswpo6jl4zzmkx v k jnrdzp35dfasbhspasldfp1123x571 v k 7qbui7a 9actxupaas ldf v k 7qbui7a 9actxupa v ks dlfsalkl k jw4bjjfvs0sjfnr9 v k yykswpo6jl4zzmkx v asdlkfjk cm7j0wfrkielyeje ycrjwg5o yfrhmym9asdfkhykybz9y v k 7asdlfksaldfxrkgdvifabwtq7n v k yfrhmym9hyasldfkpokybz9y v k zikxxh1fcd3qlt7l add again loan mobile agree 10 1 agree 20 1 agree 20 2 agree 30 1 agree 30 2 agree 30 3 agree 30 4 agree 40 1 agree 40 2 and1 ap14 application apply2 checkpwd\n"
     ]
    }
   ],
   "source": [
    "# with pd.option_context('display.max_colwidth', None):\n",
    "long_query=dataset_all_cleaned[dataset_all_cleaned['Query'].map(lambda x:len(x.split()))==542]['Query'].item()\n",
    "print(long_query)"
   ]
  },
  {
   "cell_type": "markdown",
   "metadata": {},
   "source": [
    "**Above two data points are surely noisy and we can remove them.**"
   ]
  },
  {
   "cell_type": "code",
   "execution_count": 65,
   "metadata": {
    "execution": {
     "iopub.execute_input": "2021-12-04T03:51:48.838092Z",
     "iopub.status.busy": "2021-12-04T03:51:48.837709Z",
     "iopub.status.idle": "2021-12-04T03:51:48.860568Z",
     "shell.execute_reply": "2021-12-04T03:51:48.859588Z",
     "shell.execute_reply.started": "2021-12-04T03:51:48.838061Z"
    }
   },
   "outputs": [
    {
     "data": {
      "text/plain": [
       "(28138, 2)"
      ]
     },
     "execution_count": 65,
     "metadata": {},
     "output_type": "execute_result"
    }
   ],
   "source": [
    "dataset_all_cleaned.drop([208,19341], inplace=True)\n",
    "dataset_all_cleaned.shape"
   ]
  },
  {
   "cell_type": "markdown",
   "metadata": {},
   "source": [
    "Now let us check query length distribution for both classes."
   ]
  },
  {
   "cell_type": "code",
   "execution_count": 66,
   "metadata": {},
   "outputs": [],
   "source": [
    "normal_queries = dataset_all_cleaned[dataset_all_cleaned['Label']==0]\n",
    "malicious_queries = dataset_all_cleaned[dataset_all_cleaned['Label']==1]"
   ]
  },
  {
   "cell_type": "code",
   "execution_count": 67,
   "metadata": {},
   "outputs": [],
   "source": [
    "normal_queries_length = normal_queries.Query.map(lambda x:len(x.split()))\n",
    "malicious_queries_length = malicious_queries.Query.map(lambda x:len(x.split()))"
   ]
  },
  {
   "cell_type": "code",
   "execution_count": 68,
   "metadata": {},
   "outputs": [
    {
     "data": {
      "image/png": "[encoded data removed]",
      "text/plain": [
       "<Figure size 1500x600 with 2 Axes>"
      ]
     },
     "metadata": {},
     "output_type": "display_data"
    }
   ],
   "source": [
    "fig2, ((ax21, ax22)) = plt.subplots(1, 2, figsize=(15,6))\n",
    "sns.histplot(normal_queries_length, binrange=(0,50), ax=ax21, color='green', label='Nomral')\n",
    "sns.histplot(normal_queries_length, binrange=(50,150), ax=ax22, color='green', label='Nomral')\n",
    "sns.histplot(malicious_queries_length, binrange=(0,50), ax=ax21, color='red', label='Malicious', alpha=0.4)\n",
    "sns.histplot(malicious_queries_length, binrange=(50,150), ax=ax22, color='red', label='Malicious', alpha=0.4)\n",
    "ax21.set_title(\"Normal vs Malicious Queries\")\n",
    "ax22.set_title(\"Normal vs Malicious Queries\")\n",
    "ax21.legend()\n",
    "ax22.legend();"
   ]
  },
  {
   "cell_type": "markdown",
   "metadata": {},
   "source": [
    "**NOTE**: Query length for both classes are having almost same distribution so it won't add any value classifying dependent variable."
   ]
  },
  {
   "cell_type": "markdown",
   "metadata": {},
   "source": [
    "### Baseline model and feature selection  \n",
    "Here our goal is to find out the words or series of words which are common in attacks.  \n",
    "We can either use TFIDF or simple tokenization which will find out the pattern in n-gram features to identify the attack.  \n",
    "**NOTE**: We will first try with all cleaned data."
   ]
  },
  {
   "cell_type": "code",
   "execution_count": 69,
   "metadata": {},
   "outputs": [],
   "source": [
    "import pickle"
   ]
  },
  {
   "cell_type": "code",
   "execution_count": 70,
   "metadata": {},
   "outputs": [],
   "source": [
    "with open('../data/dataset_all_cleaned.df', 'wb') as file:\n",
    "  pickle.dump(dataset_all_cleaned, file)"
   ]
  },
  {
   "cell_type": "code",
   "execution_count": 71,
   "metadata": {
    "execution": {
     "iopub.execute_input": "2021-12-04T03:51:49.622978Z",
     "iopub.status.busy": "2021-12-04T03:51:49.622430Z",
     "iopub.status.idle": "2021-12-04T03:51:49.633968Z",
     "shell.execute_reply": "2021-12-04T03:51:49.632932Z",
     "shell.execute_reply.started": "2021-12-04T03:51:49.622942Z"
    }
   },
   "outputs": [],
   "source": [
    "X = dataset_all_cleaned['Query']\n",
    "y = dataset_all_cleaned['Label']"
   ]
  },
  {
   "cell_type": "code",
   "execution_count": 72,
   "metadata": {
    "execution": {
     "iopub.execute_input": "2021-12-04T03:51:49.635540Z",
     "iopub.status.busy": "2021-12-04T03:51:49.635189Z",
     "iopub.status.idle": "2021-12-04T03:51:49.834158Z",
     "shell.execute_reply": "2021-12-04T03:51:49.833173Z",
     "shell.execute_reply.started": "2021-12-04T03:51:49.635504Z"
    }
   },
   "outputs": [],
   "source": [
    "from sklearn.model_selection import train_test_split\n",
    "X_train, X_test, y_train, y_test = train_test_split(X, y, test_size=0.30, random_state=42)"
   ]
  },
  {
   "cell_type": "code",
   "execution_count": 73,
   "metadata": {
    "execution": {
     "iopub.execute_input": "2021-12-04T03:51:49.836167Z",
     "iopub.status.busy": "2021-12-04T03:51:49.835834Z",
     "iopub.status.idle": "2021-12-04T03:51:49.844116Z",
     "shell.execute_reply": "2021-12-04T03:51:49.843094Z",
     "shell.execute_reply.started": "2021-12-04T03:51:49.836110Z"
    }
   },
   "outputs": [
    {
     "data": {
      "text/plain": [
       "0    13624\n",
       "1     6072\n",
       "Name: Label, dtype: int64"
      ]
     },
     "execution_count": 73,
     "metadata": {},
     "output_type": "execute_result"
    }
   ],
   "source": [
    "y_train.value_counts()"
   ]
  },
  {
   "cell_type": "code",
   "execution_count": 74,
   "metadata": {
    "execution": {
     "iopub.execute_input": "2021-12-04T03:51:49.845813Z",
     "iopub.status.busy": "2021-12-04T03:51:49.845568Z",
     "iopub.status.idle": "2021-12-04T03:51:49.859165Z",
     "shell.execute_reply": "2021-12-04T03:51:49.858204Z",
     "shell.execute_reply.started": "2021-12-04T03:51:49.845786Z"
    }
   },
   "outputs": [
    {
     "data": {
      "text/plain": [
       "0    5842\n",
       "1    2600\n",
       "Name: Label, dtype: int64"
      ]
     },
     "execution_count": 74,
     "metadata": {},
     "output_type": "execute_result"
    }
   ],
   "source": [
    "y_test.value_counts()"
   ]
  },
  {
   "cell_type": "markdown",
   "metadata": {},
   "source": [
    "### Tokenization\n",
    "We will tokenize data using counter vectorizer and TFIDF both."
   ]
  },
  {
   "cell_type": "code",
   "execution_count": 75,
   "metadata": {
    "execution": {
     "iopub.execute_input": "2021-12-04T03:51:49.860968Z",
     "iopub.status.busy": "2021-12-04T03:51:49.860385Z",
     "iopub.status.idle": "2021-12-04T03:51:51.423524Z",
     "shell.execute_reply": "2021-12-04T03:51:51.422642Z",
     "shell.execute_reply.started": "2021-12-04T03:51:49.860922Z"
    }
   },
   "outputs": [],
   "source": [
    "from sklearn.feature_extraction.text import CountVectorizer\n",
    "vectorizer = CountVectorizer(ngram_range=(1,3), max_features=2500)\n",
    "X_train_vec = vectorizer.fit_transform(X_train)\n",
    "X_test_vec = vectorizer.transform(X_test)"
   ]
  },
  {
   "cell_type": "code",
   "execution_count": 76,
   "metadata": {
    "execution": {
     "iopub.execute_input": "2021-12-04T03:51:51.425511Z",
     "iopub.status.busy": "2021-12-04T03:51:51.425107Z",
     "iopub.status.idle": "2021-12-04T03:51:52.953553Z",
     "shell.execute_reply": "2021-12-04T03:51:52.952774Z",
     "shell.execute_reply.started": "2021-12-04T03:51:51.425402Z"
    }
   },
   "outputs": [],
   "source": [
    "from sklearn.feature_extraction.text import TfidfVectorizer\n",
    "tfidf_vectorizer = TfidfVectorizer(ngram_range=(1,3), max_features=2500)\n",
    "X_train_tfidfvec = tfidf_vectorizer.fit_transform(X_train)\n",
    "X_test_tfidfvec = tfidf_vectorizer.transform(X_test)"
   ]
  },
  {
   "cell_type": "markdown",
   "metadata": {},
   "source": [
    "Let us try to visualize data in 2D using TSNE"
   ]
  },
  {
   "cell_type": "code",
   "execution_count": null,
   "metadata": {},
   "outputs": [],
   "source": [
    "from sklearn.decomposition import TruncatedSVD\n",
    "from scipy import sparse as sp\n",
    "from sklearn.manifold import TSNE\n",
    "embedded_data = TSNE(perplexity=100).fit_transform(X_train_vec, y_train)"
   ]
  },
  {
   "cell_type": "code",
   "execution_count": null,
   "metadata": {},
   "outputs": [],
   "source": [
    "embedded_data.shape"
   ]
  },
  {
   "cell_type": "code",
   "execution_count": null,
   "metadata": {},
   "outputs": [],
   "source": [
    "sns.scatterplot(x=embedded_data[:,0], y=embedded_data[:,1], hue=y_train, legend='full',)"
   ]
  },
  {
   "cell_type": "code",
   "execution_count": null,
   "metadata": {},
   "outputs": [],
   "source": [
    "embedded_data = TSNE(perplexity=200).fit_transform(X_train_vec, y_train)\n",
    "sns.scatterplot(x=embedded_data[:,0], y=embedded_data[:,1], hue=y_train, legend='full')"
   ]
  },
  {
   "cell_type": "code",
   "execution_count": null,
   "metadata": {},
   "outputs": [],
   "source": [
    "embedded_data = TSNE(perplexity=300).fit_transform(X_train_vec, y_train)\n",
    "sns.scatterplot(x=embedded_data[:,0], y=embedded_data[:,1], hue=y_train, legend='full')"
   ]
  },
  {
   "cell_type": "code",
   "execution_count": null,
   "metadata": {},
   "outputs": [],
   "source": [
    "embedded_data = TSNE(perplexity=80).fit_transform(X_train_vec, y_train)\n",
    "sns.scatterplot(x=embedded_data[:,0], y=embedded_data[:,1], hue=y_train, legend='full')"
   ]
  },
  {
   "cell_type": "code",
   "execution_count": null,
   "metadata": {},
   "outputs": [],
   "source": [
    "embedded_data = TSNE(perplexity=50).fit_transform(X_train_vec, y_train)\n",
    "sns.scatterplot(x=embedded_data[:,0], y=embedded_data[:,1], hue=y_train, legend='full')"
   ]
  },
  {
   "cell_type": "code",
   "execution_count": null,
   "metadata": {},
   "outputs": [],
   "source": [
    "embedded_data = TSNE(perplexity=400, n_iter=3000).fit_transform(X_train_vec, y_train)\n",
    "sns.scatterplot(x=embedded_data[:,0], y=embedded_data[:,1], hue=y_train, legend='full')"
   ]
  },
  {
   "cell_type": "markdown",
   "metadata": {},
   "source": [
    "From TSNE result we can see that both classes are clearly separatable in 2D embedding of 2500 dimensional data."
   ]
  },
  {
   "cell_type": "markdown",
   "metadata": {},
   "source": [
    "### Random Forest Model\n",
    "1. Using count vectorized data"
   ]
  },
  {
   "cell_type": "code",
   "execution_count": null,
   "metadata": {
    "execution": {
     "iopub.execute_input": "2021-12-04T03:51:52.964371Z",
     "iopub.status.busy": "2021-12-04T03:51:52.964140Z",
     "iopub.status.idle": "2021-12-04T03:51:55.742953Z",
     "shell.execute_reply": "2021-12-04T03:51:55.742269Z",
     "shell.execute_reply.started": "2021-12-04T03:51:52.964343Z"
    }
   },
   "outputs": [],
   "source": [
    "from sklearn.ensemble import RandomForestClassifier\n",
    "\n",
    "RFC_model = RandomForestClassifier()\n",
    "RFC_model.fit(X_train_vec, y_train)\n",
    "RFC_model.score(X_test_vec, y_test)"
   ]
  },
  {
   "cell_type": "markdown",
   "metadata": {},
   "source": [
    "2. Using TFIDF vectorized data"
   ]
  },
  {
   "cell_type": "code",
   "execution_count": null,
   "metadata": {
    "execution": {
     "iopub.execute_input": "2021-12-04T03:51:55.744247Z",
     "iopub.status.busy": "2021-12-04T03:51:55.744012Z",
     "iopub.status.idle": "2021-12-04T03:51:58.590446Z",
     "shell.execute_reply": "2021-12-04T03:51:58.589632Z",
     "shell.execute_reply.started": "2021-12-04T03:51:55.744220Z"
    }
   },
   "outputs": [],
   "source": [
    "RFC_model_tfidf = RandomForestClassifier()\n",
    "RFC_model_tfidf.fit(X_train_tfidfvec, y_train)\n",
    "RFC_model_tfidf.score(X_test_tfidfvec, y_test)"
   ]
  },
  {
   "cell_type": "code",
   "execution_count": null,
   "metadata": {
    "execution": {
     "iopub.execute_input": "2021-12-04T03:51:58.591870Z",
     "iopub.status.busy": "2021-12-04T03:51:58.591631Z",
     "iopub.status.idle": "2021-12-04T03:51:59.119666Z",
     "shell.execute_reply": "2021-12-04T03:51:59.118727Z",
     "shell.execute_reply.started": "2021-12-04T03:51:58.591840Z"
    }
   },
   "outputs": [],
   "source": [
    "RFC_model_y_pred = RFC_model.predict(X_test_vec)\n",
    "RFC_model_tfidf_y_pred = RFC_model_tfidf.predict(X_test_tfidfvec)"
   ]
  },
  {
   "cell_type": "markdown",
   "metadata": {},
   "source": [
    "Confusion matrix"
   ]
  },
  {
   "cell_type": "code",
   "execution_count": null,
   "metadata": {
    "execution": {
     "iopub.execute_input": "2021-12-04T03:51:59.121177Z",
     "iopub.status.busy": "2021-12-04T03:51:59.120917Z",
     "iopub.status.idle": "2021-12-04T03:51:59.126037Z",
     "shell.execute_reply": "2021-12-04T03:51:59.125030Z",
     "shell.execute_reply.started": "2021-12-04T03:51:59.121142Z"
    }
   },
   "outputs": [],
   "source": [
    "from sklearn.metrics import f1_score, confusion_matrix, ConfusionMatrixDisplay"
   ]
  },
  {
   "cell_type": "code",
   "execution_count": null,
   "metadata": {
    "execution": {
     "iopub.execute_input": "2021-12-04T03:51:59.127382Z",
     "iopub.status.busy": "2021-12-04T03:51:59.127163Z",
     "iopub.status.idle": "2021-12-04T03:51:59.400369Z",
     "shell.execute_reply": "2021-12-04T03:51:59.399455Z",
     "shell.execute_reply.started": "2021-12-04T03:51:59.127357Z"
    }
   },
   "outputs": [],
   "source": [
    "print(\"F1 Score for simple model : \", round(f1_score(y_test, RFC_model_y_pred)*100,2),\"%\")\n",
    "cm_1 = ConfusionMatrixDisplay(confusion_matrix(y_test, RFC_model_y_pred))\n",
    "cm_1.plot()"
   ]
  },
  {
   "cell_type": "code",
   "execution_count": null,
   "metadata": {
    "execution": {
     "iopub.execute_input": "2021-12-04T03:51:59.402478Z",
     "iopub.status.busy": "2021-12-04T03:51:59.402061Z",
     "iopub.status.idle": "2021-12-04T03:51:59.670899Z",
     "shell.execute_reply": "2021-12-04T03:51:59.670084Z",
     "shell.execute_reply.started": "2021-12-04T03:51:59.402430Z"
    }
   },
   "outputs": [],
   "source": [
    "print(\"F1 Score for TFIDF model : \", round(f1_score(y_test, RFC_model_tfidf_y_pred)*100,2),\"%\")\n",
    "cm_2 = ConfusionMatrixDisplay(confusion_matrix(y_test, RFC_model_tfidf_y_pred))\n",
    "cm_2.plot()"
   ]
  },
  {
   "cell_type": "code",
   "execution_count": null,
   "metadata": {
    "execution": {
     "iopub.execute_input": "2021-12-04T03:51:59.672532Z",
     "iopub.status.busy": "2021-12-04T03:51:59.672223Z",
     "iopub.status.idle": "2021-12-04T03:51:59.909745Z",
     "shell.execute_reply": "2021-12-04T03:51:59.908906Z",
     "shell.execute_reply.started": "2021-12-04T03:51:59.672490Z"
    }
   },
   "outputs": [],
   "source": [
    "from sklearn.metrics import RocCurveDisplay, roc_curve, auc\n",
    "fpr, tpr, thresholds = roc_curve(y_test, RFC_model_y_pred)\n",
    "roc_auc = auc(fpr, tpr)\n",
    "display = RocCurveDisplay(fpr=fpr, tpr=tpr, roc_auc=roc_auc, estimator_name='Random Forest')\n",
    "display.plot()\n",
    "print(\"roc_auc = \", round(roc_auc*100,2))"
   ]
  },
  {
   "cell_type": "code",
   "execution_count": null,
   "metadata": {
    "execution": {
     "iopub.execute_input": "2021-12-04T03:51:59.911196Z",
     "iopub.status.busy": "2021-12-04T03:51:59.910942Z",
     "iopub.status.idle": "2021-12-04T03:52:00.158905Z",
     "shell.execute_reply": "2021-12-04T03:52:00.157243Z",
     "shell.execute_reply.started": "2021-12-04T03:51:59.911164Z"
    }
   },
   "outputs": [],
   "source": [
    "fpr, tpr, thresholds = roc_curve(y_test, RFC_model_tfidf_y_pred)\n",
    "roc_auc = auc(fpr, tpr)\n",
    "display = RocCurveDisplay(fpr=fpr, tpr=tpr, roc_auc=roc_auc, estimator_name='Random Forest (TFIDF)')\n",
    "display.plot()\n",
    "print(\"roc_auc = \", round(roc_auc*100,2))"
   ]
  },
  {
   "cell_type": "code",
   "execution_count": null,
   "metadata": {},
   "outputs": [],
   "source": [
    "from sklearn.model_selection import cross_val_score, cross_validate\n",
    "cross_val_score(RFC_model, X_train_vec, y_train, cv=5, scoring='f1')"
   ]
  },
  {
   "cell_type": "code",
   "execution_count": null,
   "metadata": {},
   "outputs": [],
   "source": [
    "cross_validate(RFC_model, X_train_vec, y_train, cv=3, scoring='f1', n_jobs=-1)"
   ]
  },
  {
   "cell_type": "code",
   "execution_count": null,
   "metadata": {},
   "outputs": [],
   "source": [
    "importances = RFC_model.feature_importances_\n",
    "forest_importances = pd.Series(importances, index=vectorizer.get_feature_names())\n",
    "forest_importances.sort_values(inplace=True, ascending=False)\n",
    "forest_importances[:50].plot(kind='bar', figsize=(16,4))"
   ]
  },
  {
   "cell_type": "code",
   "execution_count": null,
   "metadata": {},
   "outputs": [],
   "source": [
    "cross_validate(RFC_model_tfidf, X_train_tfidfvec, y_train, cv=3, scoring='f1', n_jobs=-1)"
   ]
  },
  {
   "cell_type": "code",
   "execution_count": null,
   "metadata": {},
   "outputs": [],
   "source": [
    "importances = RFC_model_tfidf.feature_importances_\n",
    "forest_importances = pd.Series(importances, index=tfidf_vectorizer.get_feature_names())\n",
    "forest_importances.sort_values(inplace=True, ascending=False)\n",
    "forest_importances[:50].plot(kind='bar', figsize=(16,4))"
   ]
  },
  {
   "cell_type": "markdown",
   "metadata": {},
   "source": [
    "#### Observations\n",
    "1. We are getting really good accuracy and f1-score for both normal vectorizer and TFIDF vectorizer.  \n",
    "2. We have currently used only words **without any special characters**.  \n",
    "  \n",
    "Let's try to train Random Forest model on the data **with special characters** for TFIDF vectorizer."
   ]
  },
  {
   "cell_type": "code",
   "execution_count": null,
   "metadata": {},
   "outputs": [],
   "source": [
    "dataset_with_special_characters.shape"
   ]
  },
  {
   "cell_type": "code",
   "execution_count": null,
   "metadata": {},
   "outputs": [],
   "source": [
    "dataset_with_special_characters[dataset_with_special_characters.duplicated(keep='first')]"
   ]
  },
  {
   "cell_type": "code",
   "execution_count": null,
   "metadata": {},
   "outputs": [],
   "source": [
    "dataset_with_special_characters.drop_duplicates(keep='first', inplace=True)"
   ]
  },
  {
   "cell_type": "code",
   "execution_count": null,
   "metadata": {},
   "outputs": [],
   "source": [
    "X_schar = dataset_with_special_characters['Query']\n",
    "y_schar = dataset_with_special_characters['Label']"
   ]
  },
  {
   "cell_type": "code",
   "execution_count": null,
   "metadata": {},
   "outputs": [],
   "source": [
    "X_train_schar, X_test_schar, y_train_schar, y_test_schar = train_test_split(X_schar, y_schar, test_size=0.30, random_state=42)"
   ]
  },
  {
   "cell_type": "code",
   "execution_count": null,
   "metadata": {},
   "outputs": [],
   "source": [
    "tfidf_vectorizer_schar = TfidfVectorizer(ngram_range=(1,3), max_features=2500)\n",
    "X_train_tfidfvec_schar = tfidf_vectorizer_schar.fit_transform(X_train_schar)\n",
    "X_test_tfidfvec_schar = tfidf_vectorizer_schar.transform(X_test_schar)"
   ]
  },
  {
   "cell_type": "code",
   "execution_count": null,
   "metadata": {},
   "outputs": [],
   "source": [
    "RFC_model_tfidf_schar = RandomForestClassifier()\n",
    "RFC_model_tfidf_schar.fit(X_train_tfidfvec_schar, y_train_schar)\n",
    "RFC_model_tfidf_schar.score(X_test_tfidfvec_schar, y_test_schar)"
   ]
  },
  {
   "cell_type": "code",
   "execution_count": null,
   "metadata": {},
   "outputs": [],
   "source": [
    "RFC_model_tfidf_y_pred_schar = RFC_model_tfidf_schar.predict(X_test_tfidfvec_schar)\n",
    "print(\"F1 Score for simple model : \", round(f1_score(y_test_schar, RFC_model_tfidf_y_pred_schar)*100,2),\"%\")\n",
    "cm_1 = ConfusionMatrixDisplay(confusion_matrix(y_test_schar, RFC_model_tfidf_y_pred_schar))\n",
    "cm_1.plot()"
   ]
  },
  {
   "cell_type": "markdown",
   "metadata": {},
   "source": [
    "**NOTE**: Here we can see that model is making more errors for type-1 while special characters are included."
   ]
  },
  {
   "cell_type": "code",
   "execution_count": null,
   "metadata": {},
   "outputs": [],
   "source": [
    "from sklearn.model_selection import GridSearchCV\n",
    "clf = GridSearchCV(estimator=RFC_model_tfidf_schar,param_grid={'n_estimators': [10, 100, 500], 'oob_score': (True, False)}, n_jobs=-1, scoring='f1')"
   ]
  },
  {
   "cell_type": "code",
   "execution_count": null,
   "metadata": {},
   "outputs": [],
   "source": [
    "clf.fit(X_train_tfidfvec_schar, y_train_schar)"
   ]
  },
  {
   "cell_type": "code",
   "execution_count": null,
   "metadata": {},
   "outputs": [],
   "source": [
    "cv_results = pd.DataFrame(clf.cv_results_)\n",
    "cv_results.sort_values(by='rank_test_score')"
   ]
  },
  {
   "cell_type": "code",
   "execution_count": null,
   "metadata": {},
   "outputs": [],
   "source": [
    "\n",
    "RFC_model_tfidf_schar_bestCV = clf.best_estimator_"
   ]
  },
  {
   "cell_type": "code",
   "execution_count": null,
   "metadata": {},
   "outputs": [],
   "source": [
    "# RFC_model_tfidf_schar_bestCV.fit(X_train_tfidfvec_schar, y_train_schar)\n",
    "RFC_model_tfidf_schar_bestCV.score(X_test_tfidfvec_schar, y_test_schar)"
   ]
  },
  {
   "cell_type": "code",
   "execution_count": null,
   "metadata": {},
   "outputs": [],
   "source": [
    "RFC_model_tfidf_y_pred_schar = RFC_model_tfidf_schar_bestCV.predict(X_test_tfidfvec_schar)\n",
    "print(\"F1 Score for simple model : \", round(f1_score(y_test_schar, RFC_model_tfidf_y_pred_schar)*100,2),\"%\")\n",
    "cm_1 = ConfusionMatrixDisplay(confusion_matrix(y_test_schar, RFC_model_tfidf_y_pred_schar))\n",
    "cm_1.plot()"
   ]
  },
  {
   "cell_type": "code",
   "execution_count": null,
   "metadata": {},
   "outputs": [],
   "source": []
  },
  {
   "cell_type": "code",
   "execution_count": null,
   "metadata": {},
   "outputs": [],
   "source": []
  }
 ],
 "metadata": {
  "interpreter": {
   "hash": "50b7b7039633aa29578af233b219e5c1be76f227168bf566501c2bcf30befc26"
  },
  "kernelspec": {
   "display_name": "Python 3 (ipykernel)",
   "language": "python",
   "name": "python3"
  },
  "language_info": {
   "codemirror_mode": {
    "name": "ipython",
    "version": 3
   },
   "file_extension": ".py",
   "mimetype": "text/x-python",
   "name": "python",
   "nbconvert_exporter": "python",
   "pygments_lexer": "ipython3",
   "version": "3.9.13"
  }
 },
 "nbformat": 4,
 "nbformat_minor": 4
}
